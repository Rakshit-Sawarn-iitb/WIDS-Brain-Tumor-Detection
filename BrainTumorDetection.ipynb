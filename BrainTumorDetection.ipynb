{
  "nbformat": 4,
  "nbformat_minor": 0,
  "metadata": {
    "colab": {
      "provenance": [],
      "mount_file_id": "1BEY-S6LFTD7DcrUZMpwH7MvR33Avn3UN",
      "authorship_tag": "ABX9TyPLTYynR08PsjIgw4yfjllH",
      "include_colab_link": true
    },
    "kernelspec": {
      "name": "python3",
      "display_name": "Python 3"
    },
    "language_info": {
      "name": "python"
    }
  },
  "cells": [
    {
      "cell_type": "markdown",
      "metadata": {
        "id": "view-in-github",
        "colab_type": "text"
      },
      "source": [
        "<a href=\"https://colab.research.google.com/github/Rakshit-Sawarn-iitb/WIDS-Brain-Tumor-Detection/blob/main/BrainTumorDetection.ipynb\" target=\"_parent\"><img src=\"https://colab.research.google.com/assets/colab-badge.svg\" alt=\"Open In Colab\"/></a>"
      ]
    },
    {
      "cell_type": "code",
      "execution_count": 48,
      "metadata": {
        "id": "nsGoEaur7Mp4"
      },
      "outputs": [],
      "source": [
        "import numpy as np\n",
        "import matplotlib.pyplot as plt\n",
        "import torch\n",
        "import torch.nn as nn\n",
        "import torchvision.transforms as transforms\n",
        "from torch.utils.data import DataLoader, Dataset\n",
        "from PIL import Image\n",
        "import gc\n",
        "import os\n",
        "from sklearn.model_selection import train_test_split"
      ]
    },
    {
      "cell_type": "code",
      "source": [
        "from google.colab import drive\n",
        "drive.mount('/content/drive')"
      ],
      "metadata": {
        "colab": {
          "base_uri": "https://localhost:8080/"
        },
        "id": "3tt4WkL37RZ7",
        "outputId": "c3aa28ae-5f42-4217-c308-7d9d4fc47ce9"
      },
      "execution_count": 2,
      "outputs": [
        {
          "output_type": "stream",
          "name": "stdout",
          "text": [
            "Drive already mounted at /content/drive; to attempt to forcibly remount, call drive.mount(\"/content/drive\", force_remount=True).\n"
          ]
        }
      ]
    },
    {
      "cell_type": "code",
      "source": [
        "dir = \"/content/drive/MyDrive/brain_tumor_dataset\"\n",
        "paths = []\n",
        "labels = []\n",
        "\n",
        "for label in ['yes', 'no']:\n",
        "  for dirname, _, filenames in os.walk(os.path.join(dir,label)):\n",
        "        for filename in filenames:\n",
        "            paths.append(os.path.join(dirname, filename))\n",
        "            labels.append(1 if label is 'yes' else 0)\n",
        "\n",
        "len(paths), len(labels)"
      ],
      "metadata": {
        "colab": {
          "base_uri": "https://localhost:8080/"
        },
        "id": "4MR2IbE57p4n",
        "outputId": "9ddded85-a5f9-4ad0-f7f7-683ff9958457"
      },
      "execution_count": 3,
      "outputs": [
        {
          "output_type": "stream",
          "name": "stderr",
          "text": [
            "<>:9: SyntaxWarning: \"is\" with a literal. Did you mean \"==\"?\n",
            "<>:9: SyntaxWarning: \"is\" with a literal. Did you mean \"==\"?\n",
            "<ipython-input-3-99b34089f5dd>:9: SyntaxWarning: \"is\" with a literal. Did you mean \"==\"?\n",
            "  labels.append(1 if label is 'yes' else 0)\n"
          ]
        },
        {
          "output_type": "execute_result",
          "data": {
            "text/plain": [
              "(263, 263)"
            ]
          },
          "metadata": {},
          "execution_count": 3
        }
      ]
    },
    {
      "cell_type": "code",
      "source": [
        "sizes = []\n",
        "for path in paths:\n",
        "    im = Image.open(path)\n",
        "    sizes.append(im.size)\n",
        "    im.close()\n",
        "\n",
        "print(max(sizes), min(sizes))"
      ],
      "metadata": {
        "colab": {
          "base_uri": "https://localhost:8080/"
        },
        "id": "PQi-idtb8qjw",
        "outputId": "eab98444-33ce-4b0d-e92b-5287a9987706"
      },
      "execution_count": 4,
      "outputs": [
        {
          "output_type": "stream",
          "name": "stdout",
          "text": [
            "(1920, 1080) (150, 198)\n"
          ]
        }
      ]
    },
    {
      "cell_type": "code",
      "source": [
        "X_train, X_test, y_train, y_test = train_test_split(paths, labels, stratify=labels, test_size=0.2, shuffle=True, random_state=1357)\n",
        "print(len(X_train), len(X_test))"
      ],
      "metadata": {
        "colab": {
          "base_uri": "https://localhost:8080/"
        },
        "id": "_Nvu0cIB8-BU",
        "outputId": "ddfd2021-590d-4317-d254-ca19167ff6f8"
      },
      "execution_count": 49,
      "outputs": [
        {
          "output_type": "stream",
          "name": "stdout",
          "text": [
            "210 53\n"
          ]
        }
      ]
    },
    {
      "cell_type": "code",
      "source": [
        "class MRIDataset():\n",
        "    def __init__(self, paths, labels, augmentations=None):\n",
        "      self.paths = paths\n",
        "      self.labels = labels\n",
        "\n",
        "      if augmentations is None:\n",
        "          self.augmentations = transforms.Compose([transforms.ToTensor()])\n",
        "      else:\n",
        "          self.augmentations = augmentations\n",
        "\n",
        "    def __len__(self):\n",
        "      return len(self.paths)\n",
        "\n",
        "    def __getitem__(self, index):\n",
        "      label = self.labels[index]\n",
        "\n",
        "      sample = Image.open(self.paths[index]).convert(mode=\"RGB\")\n",
        "      sample = self.augmentations(sample)\n",
        "\n",
        "      return (sample,torch.tensor(label, dtype=torch.float))"
      ],
      "metadata": {
        "id": "-Ih3xpP79WUr"
      },
      "execution_count": 50,
      "outputs": []
    },
    {
      "cell_type": "code",
      "source": [
        "train_augmentations = transforms.Compose([transforms.Resize((224,224)),\n",
        "                                          transforms.RandomHorizontalFlip(0.2),\n",
        "                                          transforms.RandomVerticalFlip(0.1),\n",
        "                                          transforms.RandomAutocontrast(0.2),\n",
        "                                          transforms.RandomAdjustSharpness(0.3),\n",
        "                                          transforms.ToTensor()\n",
        "                                         ])\n",
        "\n",
        "test_augmentations = transforms.Compose([transforms.Resize((224,224)),\n",
        "                                          transforms.RandomHorizontalFlip(0.2),\n",
        "                                          transforms.RandomVerticalFlip(0.1),\n",
        "                                          transforms.RandomAutocontrast(0.2),\n",
        "                                          transforms.RandomAdjustSharpness(0.3),\n",
        "                                          transforms.ToTensor()\n",
        "                                         ])"
      ],
      "metadata": {
        "id": "sQQsSvLmrPT4"
      },
      "execution_count": 51,
      "outputs": []
    },
    {
      "cell_type": "code",
      "source": [
        "train_dataset = MRIDataset(X_train, y_train, augmentations=train_augmentations)\n",
        "test_dataset = MRIDataset(X_test, y_test, augmentations=test_augmentations)"
      ],
      "metadata": {
        "id": "aYUFVohfrVMc"
      },
      "execution_count": 52,
      "outputs": []
    },
    {
      "cell_type": "code",
      "source": [
        "random_sample, random_label = test_dataset[0]\n",
        "print(random_sample)\n",
        "plt.imshow(random_sample)\n",
        "print(random_label.item())"
      ],
      "metadata": {
        "colab": {
          "base_uri": "https://localhost:8080/",
          "height": 1000
        },
        "id": "QIXP3kP2_CKE",
        "outputId": "9a6bfc1c-906f-41e4-e975-11eb98800789"
      },
      "execution_count": 9,
      "outputs": [
        {
          "output_type": "stream",
          "name": "stdout",
          "text": [
            "tensor([[[0.0039, 0.0078, 0.0078,  ..., 0.0118, 0.0118, 0.0118],\n",
            "         [0.0039, 0.0078, 0.0078,  ..., 0.0118, 0.0118, 0.0118],\n",
            "         [0.0039, 0.0078, 0.0078,  ..., 0.0118, 0.0118, 0.0118],\n",
            "         ...,\n",
            "         [0.0078, 0.0078, 0.0078,  ..., 0.0078, 0.0078, 0.0078],\n",
            "         [0.0078, 0.0078, 0.0078,  ..., 0.0078, 0.0078, 0.0078],\n",
            "         [0.0078, 0.0078, 0.0078,  ..., 0.0078, 0.0078, 0.0078]],\n",
            "\n",
            "        [[0.0039, 0.0078, 0.0078,  ..., 0.0118, 0.0118, 0.0118],\n",
            "         [0.0039, 0.0078, 0.0078,  ..., 0.0118, 0.0118, 0.0118],\n",
            "         [0.0039, 0.0078, 0.0078,  ..., 0.0118, 0.0118, 0.0118],\n",
            "         ...,\n",
            "         [0.0078, 0.0078, 0.0078,  ..., 0.0078, 0.0078, 0.0078],\n",
            "         [0.0078, 0.0078, 0.0078,  ..., 0.0078, 0.0078, 0.0078],\n",
            "         [0.0078, 0.0078, 0.0078,  ..., 0.0078, 0.0078, 0.0078]],\n",
            "\n",
            "        [[0.0039, 0.0078, 0.0078,  ..., 0.0118, 0.0118, 0.0118],\n",
            "         [0.0039, 0.0078, 0.0078,  ..., 0.0118, 0.0118, 0.0118],\n",
            "         [0.0039, 0.0078, 0.0078,  ..., 0.0118, 0.0118, 0.0118],\n",
            "         ...,\n",
            "         [0.0078, 0.0078, 0.0078,  ..., 0.0078, 0.0078, 0.0078],\n",
            "         [0.0078, 0.0078, 0.0078,  ..., 0.0078, 0.0078, 0.0078],\n",
            "         [0.0078, 0.0078, 0.0078,  ..., 0.0078, 0.0078, 0.0078]]])\n"
          ]
        },
        {
          "output_type": "error",
          "ename": "TypeError",
          "evalue": "Invalid shape (3, 224, 224) for image data",
          "traceback": [
            "\u001b[0;31m---------------------------------------------------------------------------\u001b[0m",
            "\u001b[0;31mTypeError\u001b[0m                                 Traceback (most recent call last)",
            "\u001b[0;32m<ipython-input-9-5a1a374a230f>\u001b[0m in \u001b[0;36m<cell line: 3>\u001b[0;34m()\u001b[0m\n\u001b[1;32m      1\u001b[0m \u001b[0mrandom_sample\u001b[0m\u001b[0;34m,\u001b[0m \u001b[0mrandom_label\u001b[0m \u001b[0;34m=\u001b[0m \u001b[0mtest_dataset\u001b[0m\u001b[0;34m[\u001b[0m\u001b[0;36m0\u001b[0m\u001b[0;34m]\u001b[0m\u001b[0;34m\u001b[0m\u001b[0;34m\u001b[0m\u001b[0m\n\u001b[1;32m      2\u001b[0m \u001b[0mprint\u001b[0m\u001b[0;34m(\u001b[0m\u001b[0mrandom_sample\u001b[0m\u001b[0;34m)\u001b[0m\u001b[0;34m\u001b[0m\u001b[0;34m\u001b[0m\u001b[0m\n\u001b[0;32m----> 3\u001b[0;31m \u001b[0mplt\u001b[0m\u001b[0;34m.\u001b[0m\u001b[0mimshow\u001b[0m\u001b[0;34m(\u001b[0m\u001b[0mrandom_sample\u001b[0m\u001b[0;34m)\u001b[0m\u001b[0;34m\u001b[0m\u001b[0;34m\u001b[0m\u001b[0m\n\u001b[0m\u001b[1;32m      4\u001b[0m \u001b[0mprint\u001b[0m\u001b[0;34m(\u001b[0m\u001b[0mrandom_label\u001b[0m\u001b[0;34m.\u001b[0m\u001b[0mitem\u001b[0m\u001b[0;34m(\u001b[0m\u001b[0;34m)\u001b[0m\u001b[0;34m)\u001b[0m\u001b[0;34m\u001b[0m\u001b[0;34m\u001b[0m\u001b[0m\n",
            "\u001b[0;32m/usr/local/lib/python3.10/dist-packages/matplotlib/pyplot.py\u001b[0m in \u001b[0;36mimshow\u001b[0;34m(X, cmap, norm, aspect, interpolation, alpha, vmin, vmax, origin, extent, interpolation_stage, filternorm, filterrad, resample, url, data, **kwargs)\u001b[0m\n\u001b[1;32m   2693\u001b[0m         \u001b[0minterpolation_stage\u001b[0m\u001b[0;34m=\u001b[0m\u001b[0;32mNone\u001b[0m\u001b[0;34m,\u001b[0m \u001b[0mfilternorm\u001b[0m\u001b[0;34m=\u001b[0m\u001b[0;32mTrue\u001b[0m\u001b[0;34m,\u001b[0m \u001b[0mfilterrad\u001b[0m\u001b[0;34m=\u001b[0m\u001b[0;36m4.0\u001b[0m\u001b[0;34m,\u001b[0m\u001b[0;34m\u001b[0m\u001b[0;34m\u001b[0m\u001b[0m\n\u001b[1;32m   2694\u001b[0m         resample=None, url=None, data=None, **kwargs):\n\u001b[0;32m-> 2695\u001b[0;31m     __ret = gca().imshow(\n\u001b[0m\u001b[1;32m   2696\u001b[0m         \u001b[0mX\u001b[0m\u001b[0;34m,\u001b[0m \u001b[0mcmap\u001b[0m\u001b[0;34m=\u001b[0m\u001b[0mcmap\u001b[0m\u001b[0;34m,\u001b[0m \u001b[0mnorm\u001b[0m\u001b[0;34m=\u001b[0m\u001b[0mnorm\u001b[0m\u001b[0;34m,\u001b[0m \u001b[0maspect\u001b[0m\u001b[0;34m=\u001b[0m\u001b[0maspect\u001b[0m\u001b[0;34m,\u001b[0m\u001b[0;34m\u001b[0m\u001b[0;34m\u001b[0m\u001b[0m\n\u001b[1;32m   2697\u001b[0m         \u001b[0minterpolation\u001b[0m\u001b[0;34m=\u001b[0m\u001b[0minterpolation\u001b[0m\u001b[0;34m,\u001b[0m \u001b[0malpha\u001b[0m\u001b[0;34m=\u001b[0m\u001b[0malpha\u001b[0m\u001b[0;34m,\u001b[0m \u001b[0mvmin\u001b[0m\u001b[0;34m=\u001b[0m\u001b[0mvmin\u001b[0m\u001b[0;34m,\u001b[0m\u001b[0;34m\u001b[0m\u001b[0;34m\u001b[0m\u001b[0m\n",
            "\u001b[0;32m/usr/local/lib/python3.10/dist-packages/matplotlib/__init__.py\u001b[0m in \u001b[0;36minner\u001b[0;34m(ax, data, *args, **kwargs)\u001b[0m\n\u001b[1;32m   1440\u001b[0m     \u001b[0;32mdef\u001b[0m \u001b[0minner\u001b[0m\u001b[0;34m(\u001b[0m\u001b[0max\u001b[0m\u001b[0;34m,\u001b[0m \u001b[0;34m*\u001b[0m\u001b[0margs\u001b[0m\u001b[0;34m,\u001b[0m \u001b[0mdata\u001b[0m\u001b[0;34m=\u001b[0m\u001b[0;32mNone\u001b[0m\u001b[0;34m,\u001b[0m \u001b[0;34m**\u001b[0m\u001b[0mkwargs\u001b[0m\u001b[0;34m)\u001b[0m\u001b[0;34m:\u001b[0m\u001b[0;34m\u001b[0m\u001b[0;34m\u001b[0m\u001b[0m\n\u001b[1;32m   1441\u001b[0m         \u001b[0;32mif\u001b[0m \u001b[0mdata\u001b[0m \u001b[0;32mis\u001b[0m \u001b[0;32mNone\u001b[0m\u001b[0;34m:\u001b[0m\u001b[0;34m\u001b[0m\u001b[0;34m\u001b[0m\u001b[0m\n\u001b[0;32m-> 1442\u001b[0;31m             \u001b[0;32mreturn\u001b[0m \u001b[0mfunc\u001b[0m\u001b[0;34m(\u001b[0m\u001b[0max\u001b[0m\u001b[0;34m,\u001b[0m \u001b[0;34m*\u001b[0m\u001b[0mmap\u001b[0m\u001b[0;34m(\u001b[0m\u001b[0msanitize_sequence\u001b[0m\u001b[0;34m,\u001b[0m \u001b[0margs\u001b[0m\u001b[0;34m)\u001b[0m\u001b[0;34m,\u001b[0m \u001b[0;34m**\u001b[0m\u001b[0mkwargs\u001b[0m\u001b[0;34m)\u001b[0m\u001b[0;34m\u001b[0m\u001b[0;34m\u001b[0m\u001b[0m\n\u001b[0m\u001b[1;32m   1443\u001b[0m \u001b[0;34m\u001b[0m\u001b[0m\n\u001b[1;32m   1444\u001b[0m         \u001b[0mbound\u001b[0m \u001b[0;34m=\u001b[0m \u001b[0mnew_sig\u001b[0m\u001b[0;34m.\u001b[0m\u001b[0mbind\u001b[0m\u001b[0;34m(\u001b[0m\u001b[0max\u001b[0m\u001b[0;34m,\u001b[0m \u001b[0;34m*\u001b[0m\u001b[0margs\u001b[0m\u001b[0;34m,\u001b[0m \u001b[0;34m**\u001b[0m\u001b[0mkwargs\u001b[0m\u001b[0;34m)\u001b[0m\u001b[0;34m\u001b[0m\u001b[0;34m\u001b[0m\u001b[0m\n",
            "\u001b[0;32m/usr/local/lib/python3.10/dist-packages/matplotlib/axes/_axes.py\u001b[0m in \u001b[0;36mimshow\u001b[0;34m(self, X, cmap, norm, aspect, interpolation, alpha, vmin, vmax, origin, extent, interpolation_stage, filternorm, filterrad, resample, url, **kwargs)\u001b[0m\n\u001b[1;32m   5663\u001b[0m                               **kwargs)\n\u001b[1;32m   5664\u001b[0m \u001b[0;34m\u001b[0m\u001b[0m\n\u001b[0;32m-> 5665\u001b[0;31m         \u001b[0mim\u001b[0m\u001b[0;34m.\u001b[0m\u001b[0mset_data\u001b[0m\u001b[0;34m(\u001b[0m\u001b[0mX\u001b[0m\u001b[0;34m)\u001b[0m\u001b[0;34m\u001b[0m\u001b[0;34m\u001b[0m\u001b[0m\n\u001b[0m\u001b[1;32m   5666\u001b[0m         \u001b[0mim\u001b[0m\u001b[0;34m.\u001b[0m\u001b[0mset_alpha\u001b[0m\u001b[0;34m(\u001b[0m\u001b[0malpha\u001b[0m\u001b[0;34m)\u001b[0m\u001b[0;34m\u001b[0m\u001b[0;34m\u001b[0m\u001b[0m\n\u001b[1;32m   5667\u001b[0m         \u001b[0;32mif\u001b[0m \u001b[0mim\u001b[0m\u001b[0;34m.\u001b[0m\u001b[0mget_clip_path\u001b[0m\u001b[0;34m(\u001b[0m\u001b[0;34m)\u001b[0m \u001b[0;32mis\u001b[0m \u001b[0;32mNone\u001b[0m\u001b[0;34m:\u001b[0m\u001b[0;34m\u001b[0m\u001b[0;34m\u001b[0m\u001b[0m\n",
            "\u001b[0;32m/usr/local/lib/python3.10/dist-packages/matplotlib/image.py\u001b[0m in \u001b[0;36mset_data\u001b[0;34m(self, A)\u001b[0m\n\u001b[1;32m    708\u001b[0m         if not (self._A.ndim == 2\n\u001b[1;32m    709\u001b[0m                 or self._A.ndim == 3 and self._A.shape[-1] in [3, 4]):\n\u001b[0;32m--> 710\u001b[0;31m             raise TypeError(\"Invalid shape {} for image data\"\n\u001b[0m\u001b[1;32m    711\u001b[0m                             .format(self._A.shape))\n\u001b[1;32m    712\u001b[0m \u001b[0;34m\u001b[0m\u001b[0m\n",
            "\u001b[0;31mTypeError\u001b[0m: Invalid shape (3, 224, 224) for image data"
          ]
        },
        {
          "output_type": "display_data",
          "data": {
            "text/plain": [
              "<Figure size 640x480 with 1 Axes>"
            ],
            "image/png": "[encoded data removed]"
          },
          "metadata": {}
        }
      ]
    },
    {
      "cell_type": "code",
      "source": [
        "class Config:\n",
        "    learning_rate = 1e-3\n",
        "    epochs = 10\n",
        "    train_batch_size = 8\n",
        "    test_batch_size = 8"
      ],
      "metadata": {
        "id": "pjiBphLZqIik"
      },
      "execution_count": 53,
      "outputs": []
    },
    {
      "cell_type": "code",
      "source": [
        "train_dataloader = torch.utils.data.DataLoader(train_dataset,\n",
        "                                               batch_size = Config.train_batch_size,\n",
        "                                               shuffle = True,\n",
        "                                               num_workers = 2\n",
        "                                              )\n",
        "\n",
        "test_dataloader = torch.utils.data.DataLoader(test_dataset,\n",
        "                                              batch_size = Config.test_batch_size,\n",
        "                                              shuffle = True,\n",
        "                                              num_workers = 2\n",
        "                                              )\n",
        "\n",
        "len(train_dataloader), len(test_dataloader)"
      ],
      "metadata": {
        "colab": {
          "base_uri": "https://localhost:8080/"
        },
        "id": "HrsRAHDjqM1S",
        "outputId": "11904942-fafa-4f81-b4de-b5428939ec94"
      },
      "execution_count": 54,
      "outputs": [
        {
          "output_type": "execute_result",
          "data": {
            "text/plain": [
              "(27, 7)"
            ]
          },
          "metadata": {},
          "execution_count": 54
        }
      ]
    },
    {
      "cell_type": "code",
      "source": [
        "class Model(nn.Module):\n",
        "\n",
        "    def __init__(self, in_features=3):\n",
        "        super(Model, self).__init__()\n",
        "\n",
        "\n",
        "        self.conv_block = nn.Sequential(nn.Conv2d(in_channels=in_features,\n",
        "                                                 out_channels=32,\n",
        "                                                 kernel_size=3,\n",
        "                                                 stride=1\n",
        "                                                 ),\n",
        "                                       nn.ReLU(),\n",
        "                                       nn.MaxPool2d(2,2),\n",
        "\n",
        "                                       nn.Conv2d(in_channels=32,\n",
        "                                                 out_channels=64,\n",
        "                                                 kernel_size=3,\n",
        "                                                 stride=1\n",
        "                                                ),\n",
        "                                       nn.ReLU(),\n",
        "                                       nn.MaxPool2d(2,2)\n",
        "                                      )\n",
        "\n",
        "        self.linear_block = nn.Sequential(nn.Linear(64*54*54, 1024),\n",
        "                                          nn.ReLU(),\n",
        "                                          nn.Dropout(0.5),\n",
        "                                          nn.Linear(1024,256),\n",
        "                                          nn.ReLU(),\n",
        "                                          nn.Dropout(0.3),\n",
        "                                          nn.Linear(256,1)\n",
        "                                         )\n",
        "\n",
        "\n",
        "    def forward(self,x):\n",
        "        x = self.conv_block(x)\n",
        "        x = torch.flatten(x,1)\n",
        "        x = self.linear_block(x)\n",
        "        return x"
      ],
      "metadata": {
        "id": "bUXw23rxqQ2W"
      },
      "execution_count": 55,
      "outputs": []
    },
    {
      "cell_type": "code",
      "source": [
        "model = Model()\n",
        "print(model)"
      ],
      "metadata": {
        "colab": {
          "base_uri": "https://localhost:8080/"
        },
        "id": "TJSWkB7KqZ0l",
        "outputId": "f27c3c2e-7171-4ca5-fb92-fc88ac772f4e"
      },
      "execution_count": 56,
      "outputs": [
        {
          "output_type": "stream",
          "name": "stdout",
          "text": [
            "Model(\n",
            "  (conv_block): Sequential(\n",
            "    (0): Conv2d(3, 32, kernel_size=(3, 3), stride=(1, 1))\n",
            "    (1): ReLU()\n",
            "    (2): MaxPool2d(kernel_size=2, stride=2, padding=0, dilation=1, ceil_mode=False)\n",
            "    (3): Conv2d(32, 64, kernel_size=(3, 3), stride=(1, 1))\n",
            "    (4): ReLU()\n",
            "    (5): MaxPool2d(kernel_size=2, stride=2, padding=0, dilation=1, ceil_mode=False)\n",
            "  )\n",
            "  (linear_block): Sequential(\n",
            "    (0): Linear(in_features=186624, out_features=1024, bias=True)\n",
            "    (1): ReLU()\n",
            "    (2): Dropout(p=0.5, inplace=False)\n",
            "    (3): Linear(in_features=1024, out_features=256, bias=True)\n",
            "    (4): ReLU()\n",
            "    (5): Dropout(p=0.3, inplace=False)\n",
            "    (6): Linear(in_features=256, out_features=1, bias=True)\n",
            "  )\n",
            ")\n"
          ]
        }
      ]
    },
    {
      "cell_type": "code",
      "source": [
        "device = \"cuda\" if torch.cuda.is_available() else \"cpu\"\n",
        "model = model.to(device)"
      ],
      "metadata": {
        "id": "N5jakVOdqcwX"
      },
      "execution_count": 57,
      "outputs": []
    },
    {
      "cell_type": "code",
      "source": [
        "class Trainer:\n",
        "\n",
        "    def __init__(self, model, dataloaders, Config):\n",
        "        self.model = model\n",
        "        self.train, self.test = dataloaders\n",
        "\n",
        "        self.Config = Config\n",
        "\n",
        "        self.optim = torch.optim.Adam(self.model.parameters(), lr=self.Config.learning_rate)\n",
        "        self.loss_fn = nn.BCEWithLogitsLoss()\n",
        "\n",
        "\n",
        "    def binary_accuracy(self, outputs, labels):\n",
        "        return (torch.round(torch.sigmoid(outputs)) == labels).sum().item() / labels.shape[0]\n",
        "\n",
        "\n",
        "    def train_one_epoch(self):\n",
        "\n",
        "        running_loss = 0\n",
        "        running_acc = 0\n",
        "\n",
        "        for X,y in self.train:\n",
        "\n",
        "            X = X.to(device, dtype = torch.float)\n",
        "            y = y.reshape(y.shape[0],1)\n",
        "            y = y.to(device, dtype = torch.float)\n",
        "\n",
        "            self.optim.zero_grad()\n",
        "\n",
        "            outputs = self.model(X)\n",
        "            loss = self.loss_fn(outputs, y)\n",
        "\n",
        "            loss.backward()\n",
        "            self.optim.step()\n",
        "\n",
        "            running_loss += loss.item()\n",
        "            running_acc += self.binary_accuracy(outputs, y)\n",
        "\n",
        "            del X\n",
        "            del y\n",
        "            gc.collect()\n",
        "            torch.cuda.empty_cache()\n",
        "\n",
        "        train_loss = running_loss / len(self.train)\n",
        "        train_acc = running_acc / len(self.train)\n",
        "\n",
        "        return train_loss, train_acc\n",
        "\n",
        "\n",
        "    def fit(self):\n",
        "\n",
        "        losses = []\n",
        "        accuracies = []\n",
        "\n",
        "        for epoch in range(self.Config.epochs):\n",
        "\n",
        "            self.model.train()\n",
        "\n",
        "            train_loss, train_acc = self.train_one_epoch()\n",
        "            losses.append(train_loss)\n",
        "            accuracies.append(train_acc)\n",
        "            print(f\"EPOCH {epoch+1}/{self.Config.epochs}\")\n",
        "            print(f\"Training Loss: {train_loss} | Training Accuracy: {train_acc}\\n\\n\")\n",
        "\n",
        "\n",
        "    @torch.no_grad()\n",
        "    def inference(self):\n",
        "\n",
        "        self.model.eval()\n",
        "\n",
        "        running_acc = 0\n",
        "\n",
        "        for X,y in self.test:\n",
        "\n",
        "            X = X.to(device, torch.float)\n",
        "            y = y.reshape(y.shape[0],1)\n",
        "            y = y.to(device, dtype = torch.float)\n",
        "            outputs = self.model(X)\n",
        "            running_acc += self.binary_accuracy(outputs, y)\n",
        "\n",
        "            del X\n",
        "            del y\n",
        "            gc.collect()\n",
        "            torch.cuda.empty_cache()\n",
        "\n",
        "        accuracy = (running_acc / len(self.test))*100\n",
        "\n",
        "        return accuracy"
      ],
      "metadata": {
        "id": "i2zt3M7bqj7w"
      },
      "execution_count": 58,
      "outputs": []
    },
    {
      "cell_type": "code",
      "source": [
        "trainer = Trainer(model, (train_dataloader, test_dataloader), Config)\n",
        "trainer.fit()"
      ],
      "metadata": {
        "id": "uioy9NXxq1I0"
      },
      "execution_count": null,
      "outputs": []
    }
  ]
}