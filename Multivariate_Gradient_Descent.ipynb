{
  "nbformat": 4,
  "nbformat_minor": 0,
  "metadata": {
    "colab": {
      "provenance": [],
      "include_colab_link": true
    },
    "kernelspec": {
      "name": "python3",
      "display_name": "Python 3"
    },
    "language_info": {
      "name": "python"
    }
  },
  "cells": [
    {
      "cell_type": "markdown",
      "metadata": {
        "id": "view-in-github",
        "colab_type": "text"
      },
      "source": [
        "<a href=\"https://colab.research.google.com/github/Rakshit-Sawarn-iitb/WIDS-Brain-Tumor-Detection/blob/main/Multivariate_Gradient_Descent.ipynb\" target=\"_parent\"><img src=\"https://colab.research.google.com/assets/colab-badge.svg\" alt=\"Open In Colab\"/></a>"
      ]
    },
    {
      "cell_type": "markdown",
      "source": [
        "In this part of the assignment you have to implement multivariate gradient descent to find the minimas (local and global) of the given function:\n",
        "Note : you can find different minimas by changing your initialisation.  \n",
        "$f(x) = x^4 + x^2y^2 - y^2 + y^4 + 6$"
      ],
      "metadata": {
        "id": "n_ZwYtYkkhMw"
      }
    },
    {
      "cell_type": "code",
      "execution_count": 1,
      "metadata": {
        "id": "AGC301Ynkcth"
      },
      "outputs": [],
      "source": [
        "#start your code here :)\n",
        "import numpy as np\n",
        "import pandas as pd\n",
        "import matplotlib.pyplot as plt"
      ]
    },
    {
      "cell_type": "code",
      "source": [
        "def function(x, y):\n",
        "    return x**4 + x**2*y**2 - y**2 + y**4 + 6\n",
        "\n",
        "def gradient(x, y):\n",
        "    df_dx = 4*x**3 + 2*x*y**2\n",
        "    df_dy = 2*x**2*y - 2*y + 4*y**3\n",
        "    return np.array([df_dx, df_dy])\n",
        "\n",
        "def multivariate_gradient_descent(xo, yo, rate, iterations):\n",
        "    x, y = xo, yo\n",
        "\n",
        "    for i in range(iterations):\n",
        "        grad = gradient(x, y)\n",
        "        x = x-rate * grad[0]\n",
        "        y = y-rate * grad[1]\n",
        "\n",
        "    return x, y, function(x, y)\n",
        "\n",
        "xo = 2.0\n",
        "yo = -2.0\n",
        "rate = 0.01\n",
        "num_iterations = 1000\n",
        "\n",
        "xf, yf, min_value = multivariate_gradient_descent(xo, yo, rate, num_iterations)\n",
        "\n",
        "print(\"Minima found at x =\", xf)\n",
        "print(\"Minima found at y =\", yf)\n",
        "print(\"Minimum value of the function =\", min_value)"
      ],
      "metadata": {
        "id": "iug3_YA4res3",
        "colab": {
          "base_uri": "https://localhost:8080/"
        },
        "outputId": "a50f4cd3-c371-4d02-accd-481f2935ebf7"
      },
      "execution_count": 5,
      "outputs": [
        {
          "output_type": "stream",
          "name": "stdout",
          "text": [
            "Minima found at x = 2.0557968936834338e-05\n",
            "Minima found at y = -0.7071067808891898\n",
            "Minimum value of the function = 5.750000000211315\n"
          ]
        }
      ]
    }
  ]
}