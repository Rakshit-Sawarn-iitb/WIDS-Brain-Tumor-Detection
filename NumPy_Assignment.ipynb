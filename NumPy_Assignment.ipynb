{
  "nbformat": 4,
  "nbformat_minor": 0,
  "metadata": {
    "colab": {
      "provenance": [],
      "authorship_tag": "ABX9TyPqLJm97NqViwYBhy1nqmRF",
      "include_colab_link": true
    },
    "kernelspec": {
      "name": "python3",
      "display_name": "Python 3"
    },
    "language_info": {
      "name": "python"
    }
  },
  "cells": [
    {
      "cell_type": "markdown",
      "metadata": {
        "id": "view-in-github",
        "colab_type": "text"
      },
      "source": [
        "<a href=\"https://colab.research.google.com/github/Rakshit-Sawarn-iitb/WIDS-Brain-Tumor-Detection/blob/main/NumPy_Assignment.ipynb\" target=\"_parent\"><img src=\"https://colab.research.google.com/assets/colab-badge.svg\" alt=\"Open In Colab\"/></a>"
      ]
    },
    {
      "cell_type": "code",
      "execution_count": 37,
      "metadata": {
        "id": "9UWg0cd8opBx"
      },
      "outputs": [],
      "source": [
        "import numpy as np"
      ]
    },
    {
      "cell_type": "markdown",
      "source": [
        "# **Initializing Array**"
      ],
      "metadata": {
        "id": "tMMiuBnXbGJ-"
      }
    },
    {
      "cell_type": "code",
      "source": [
        "arr = np.array(\n",
        "    [\n",
        "        [1,2,4],\n",
        "        [7,13,21]\n",
        "    ]\n",
        ")\n",
        "\n",
        "print(arr)\n",
        "print(\"Shape: \",arr.shape)"
      ],
      "metadata": {
        "id": "WeJB8LGso-k3"
      },
      "execution_count": null,
      "outputs": []
    },
    {
      "cell_type": "markdown",
      "source": [
        "### **Random Module**"
      ],
      "metadata": {
        "id": "WPIWZ3-LbW8s"
      }
    },
    {
      "cell_type": "code",
      "source": [
        "n_rows = 2\n",
        "n_columns = 3\n",
        "\n",
        "x = np.random.randn(n_rows,n_columns)\n",
        "\n",
        "print(x)"
      ],
      "metadata": {
        "id": "YjojhYLfp1fN"
      },
      "execution_count": null,
      "outputs": []
    },
    {
      "cell_type": "markdown",
      "source": [
        "### **Array with all elements zeros or ones**"
      ],
      "metadata": {
        "id": "-SzjYfQpbdGo"
      }
    },
    {
      "cell_type": "code",
      "source": [
        "ZERO_ARR = np.zeros((4,5,2))\n",
        "\n",
        "print(ZERO_ARR)\n",
        "\n",
        "ONE_ARR = np.ones((4,5,2))\n",
        "\n",
        "print(ONE_ARR)"
      ],
      "metadata": {
        "id": "86TOV6ZTr8I7"
      },
      "execution_count": null,
      "outputs": []
    },
    {
      "cell_type": "markdown",
      "source": [
        "### **Reshaping an array**"
      ],
      "metadata": {
        "id": "76Yo0FJVbnv_"
      }
    },
    {
      "cell_type": "code",
      "source": [
        "y = np.array(\n",
        "    [\n",
        "        [1,2,3],\n",
        "        [4,5,6]\n",
        "    ]\n",
        ")\n",
        "\n",
        "y_transpose = np.reshape(y,(3,2))\n",
        "print(y_transpose)\n",
        "\n",
        "y_flat = np.reshape(y,(6,1))\n",
        "print(y_flat)"
      ],
      "metadata": {
        "id": "U3hL30QutjL4"
      },
      "execution_count": null,
      "outputs": []
    },
    {
      "cell_type": "code",
      "source": [
        "y = np.array(\n",
        "    [\n",
        "    [4],\n",
        "    [7],\n",
        "    [11]\n",
        "    ]\n",
        ")\n",
        "assert y.shape == (3,1)\n",
        "\n",
        "print(y)"
      ],
      "metadata": {
        "id": "9K9bpIrbvHu5"
      },
      "execution_count": null,
      "outputs": []
    },
    {
      "cell_type": "markdown",
      "source": [
        "# **Indexing and Slicing**"
      ],
      "metadata": {
        "id": "JQ_JHTErb2sZ"
      }
    },
    {
      "cell_type": "code",
      "source": [
        "x = np.array([4,1,5,6,11])\n",
        "y = x[1:4]\n",
        "print(y)\n",
        "\n",
        "z = np.array([1,2,3,4,5,6,7,8,9,10])\n",
        "w = z[0:9:2]\n",
        "print(w)"
      ],
      "metadata": {
        "id": "JpZCmKvS0JYG"
      },
      "execution_count": null,
      "outputs": []
    },
    {
      "cell_type": "code",
      "source": [
        "arr_2d = np.array(\n",
        "    [\n",
        "        [4,5,2],\n",
        "        [3,7,9],\n",
        "        [1,4,5],\n",
        "        [6,6,1]\n",
        "    ]\n",
        ")\n",
        "\n",
        "sliced_arr_2d = arr_2d[0:3,1:]\n",
        "print(sliced_arr_2d)"
      ],
      "metadata": {
        "id": "cMLSgZgG1uw_"
      },
      "execution_count": null,
      "outputs": []
    },
    {
      "cell_type": "markdown",
      "source": [
        "# **Broadcasting**"
      ],
      "metadata": {
        "id": "NfT1jdYRcA4V"
      }
    },
    {
      "cell_type": "code",
      "source": [
        "arr1 = np.array([1,2,3,4])\n",
        "b = 1\n",
        "\n",
        "arr1 = arr1+b\n",
        "\n",
        "print(arr1)\n",
        "\n",
        "arr2 = np.array(\n",
        "    [\n",
        "        [1,2,3],\n",
        "        [4,5,6]\n",
        "    ]\n",
        ")\n",
        "arr3 = np.array(\n",
        "    [\n",
        "        [4],\n",
        "        [5]\n",
        "    ]\n",
        ")\n",
        "\n",
        "arr2 = arr2*arr3\n",
        "\n",
        "print(arr2)"
      ],
      "metadata": {
        "id": "YzsypHuV2_VH"
      },
      "execution_count": null,
      "outputs": []
    },
    {
      "cell_type": "markdown",
      "source": [
        "# **Vectorization**"
      ],
      "metadata": {
        "id": "pH_FvxtPcGq0"
      }
    },
    {
      "cell_type": "code",
      "source": [
        "import time\n",
        "arr_nonvectorized = np.random.randn(1000,1000)\n",
        "arr_vectorized = np.array(arr_nonvectorized)\n",
        "\n",
        "start_nv = time.time()\n",
        "rows,columns = arr_nonvectorized.shape\n",
        "for i in range(rows):\n",
        "  for j in range(columns):\n",
        "    arr_nonvectorized[i,j] = arr_nonvectorized[i,j]*3\n",
        "end_nv = time.time()\n",
        "print(\"Time taken in non-vectorized approach:\", 1000*(end_nv-start_nv), \"ms\")\n",
        "print(arr_nonvectorized)\n",
        "\n",
        "start_v = time.time()\n",
        "b = 3\n",
        "arr_vectorized = arr_vectorized*b\n",
        "end_v = time.time()\n",
        "print(\"Time taken in non-vectorized approach:\", 1000*(end_v-start_v), \"ms\")\n",
        "print(arr_vectorized)"
      ],
      "metadata": {
        "id": "2IMZNgVWYAM3"
      },
      "execution_count": null,
      "outputs": []
    }
  ]
}