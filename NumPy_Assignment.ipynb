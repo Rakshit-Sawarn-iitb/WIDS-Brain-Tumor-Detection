{
  "nbformat": 4,
  "nbformat_minor": 0,
  "metadata": {
    "colab": {
      "provenance": [],
      "include_colab_link": true
    },
    "kernelspec": {
      "name": "python3",
      "display_name": "Python 3"
    },
    "language_info": {
      "name": "python"
    }
  },
  "cells": [
    {
      "cell_type": "markdown",
      "metadata": {
        "id": "view-in-github",
        "colab_type": "text"
      },
      "source": [
        "<a href=\"https://colab.research.google.com/github/Rakshit-Sawarn-iitb/WIDS-Brain-Tumor-Detection/blob/main/NumPy_Assignment.ipynb\" target=\"_parent\"><img src=\"https://colab.research.google.com/assets/colab-badge.svg\" alt=\"Open In Colab\"/></a>"
      ]
    },
    {
      "cell_type": "code",
      "execution_count": 2,
      "metadata": {
        "id": "9UWg0cd8opBx"
      },
      "outputs": [],
      "source": [
        "import numpy as np"
      ]
    },
    {
      "cell_type": "markdown",
      "source": [
        "# **Initializing Array**"
      ],
      "metadata": {
        "id": "tMMiuBnXbGJ-"
      }
    },
    {
      "cell_type": "code",
      "source": [
        "arr = np.array(\n",
        "    [\n",
        "        [1,2,4],\n",
        "        [7,13,21]\n",
        "    ]\n",
        ")\n",
        "\n",
        "print(arr)\n",
        "print(\"Shape: \",arr.shape)"
      ],
      "metadata": {
        "id": "WeJB8LGso-k3",
        "outputId": "d622e5af-cac2-4a1d-c60a-fa6b15166615",
        "colab": {
          "base_uri": "https://localhost:8080/"
        }
      },
      "execution_count": 3,
      "outputs": [
        {
          "output_type": "stream",
          "name": "stdout",
          "text": [
            "[[ 1  2  4]\n",
            " [ 7 13 21]]\n",
            "Shape:  (2, 3)\n"
          ]
        }
      ]
    },
    {
      "cell_type": "markdown",
      "source": [
        "### **Random Module**"
      ],
      "metadata": {
        "id": "WPIWZ3-LbW8s"
      }
    },
    {
      "cell_type": "code",
      "source": [
        "n_rows = 2\n",
        "n_columns = 3\n",
        "\n",
        "x = np.random.randn(n_rows,n_columns)\n",
        "\n",
        "print(x)"
      ],
      "metadata": {
        "id": "YjojhYLfp1fN",
        "outputId": "6be73b7d-6548-4cad-d166-6d50138a3b70",
        "colab": {
          "base_uri": "https://localhost:8080/"
        }
      },
      "execution_count": 4,
      "outputs": [
        {
          "output_type": "stream",
          "name": "stdout",
          "text": [
            "[[ 0.11758143 -1.66913208  0.43638077]\n",
            " [ 0.93055893 -0.0883409  -1.33877866]]\n"
          ]
        }
      ]
    },
    {
      "cell_type": "markdown",
      "source": [
        "### **Array with all elements zeros or ones**"
      ],
      "metadata": {
        "id": "-SzjYfQpbdGo"
      }
    },
    {
      "cell_type": "code",
      "source": [
        "ZERO_ARR = np.zeros((4,5,2))\n",
        "\n",
        "print(ZERO_ARR)\n",
        "\n",
        "ONE_ARR = np.ones((4,5,2))\n",
        "\n",
        "print(ONE_ARR)"
      ],
      "metadata": {
        "id": "86TOV6ZTr8I7",
        "outputId": "97a646b7-e565-4567-e80b-8c3e5c568c2b",
        "colab": {
          "base_uri": "https://localhost:8080/"
        }
      },
      "execution_count": 5,
      "outputs": [
        {
          "output_type": "stream",
          "name": "stdout",
          "text": [
            "[[[0. 0.]\n",
            "  [0. 0.]\n",
            "  [0. 0.]\n",
            "  [0. 0.]\n",
            "  [0. 0.]]\n",
            "\n",
            " [[0. 0.]\n",
            "  [0. 0.]\n",
            "  [0. 0.]\n",
            "  [0. 0.]\n",
            "  [0. 0.]]\n",
            "\n",
            " [[0. 0.]\n",
            "  [0. 0.]\n",
            "  [0. 0.]\n",
            "  [0. 0.]\n",
            "  [0. 0.]]\n",
            "\n",
            " [[0. 0.]\n",
            "  [0. 0.]\n",
            "  [0. 0.]\n",
            "  [0. 0.]\n",
            "  [0. 0.]]]\n",
            "[[[1. 1.]\n",
            "  [1. 1.]\n",
            "  [1. 1.]\n",
            "  [1. 1.]\n",
            "  [1. 1.]]\n",
            "\n",
            " [[1. 1.]\n",
            "  [1. 1.]\n",
            "  [1. 1.]\n",
            "  [1. 1.]\n",
            "  [1. 1.]]\n",
            "\n",
            " [[1. 1.]\n",
            "  [1. 1.]\n",
            "  [1. 1.]\n",
            "  [1. 1.]\n",
            "  [1. 1.]]\n",
            "\n",
            " [[1. 1.]\n",
            "  [1. 1.]\n",
            "  [1. 1.]\n",
            "  [1. 1.]\n",
            "  [1. 1.]]]\n"
          ]
        }
      ]
    },
    {
      "cell_type": "markdown",
      "source": [
        "### **Reshaping an array**"
      ],
      "metadata": {
        "id": "76Yo0FJVbnv_"
      }
    },
    {
      "cell_type": "code",
      "source": [
        "y = np.array(\n",
        "    [\n",
        "        [1,2,3],\n",
        "        [4,5,6]\n",
        "    ]\n",
        ")\n",
        "\n",
        "y_transpose = np.reshape(y,(3,2))\n",
        "print(y_transpose)\n",
        "\n",
        "y_flat = np.reshape(y,(6,1))\n",
        "print(y_flat)"
      ],
      "metadata": {
        "id": "U3hL30QutjL4",
        "outputId": "a243da40-7636-45cf-a932-5778b5945b95",
        "colab": {
          "base_uri": "https://localhost:8080/"
        }
      },
      "execution_count": 6,
      "outputs": [
        {
          "output_type": "stream",
          "name": "stdout",
          "text": [
            "[[1 2]\n",
            " [3 4]\n",
            " [5 6]]\n",
            "[[1]\n",
            " [2]\n",
            " [3]\n",
            " [4]\n",
            " [5]\n",
            " [6]]\n"
          ]
        }
      ]
    },
    {
      "cell_type": "code",
      "source": [
        "y = np.array(\n",
        "    [\n",
        "    [4],\n",
        "    [7],\n",
        "    [11]\n",
        "    ]\n",
        ")\n",
        "assert y.shape == (3,1)\n",
        "\n",
        "print(y)"
      ],
      "metadata": {
        "id": "9K9bpIrbvHu5",
        "outputId": "3ea69d4c-1ba2-4048-efb2-d34f19088f09",
        "colab": {
          "base_uri": "https://localhost:8080/"
        }
      },
      "execution_count": 7,
      "outputs": [
        {
          "output_type": "stream",
          "name": "stdout",
          "text": [
            "[[ 4]\n",
            " [ 7]\n",
            " [11]]\n"
          ]
        }
      ]
    },
    {
      "cell_type": "markdown",
      "source": [
        "# **Indexing and Slicing**"
      ],
      "metadata": {
        "id": "JQ_JHTErb2sZ"
      }
    },
    {
      "cell_type": "code",
      "source": [
        "x = np.array([4,1,5,6,11])\n",
        "y = x[1:4]\n",
        "print(y)\n",
        "\n",
        "z = np.array([1,2,3,4,5,6,7,8,9,10])\n",
        "w = z[0:9:2]\n",
        "print(w)"
      ],
      "metadata": {
        "id": "JpZCmKvS0JYG",
        "outputId": "695c1422-b4bf-46a1-8d1b-e0b8ceb90489",
        "colab": {
          "base_uri": "https://localhost:8080/"
        }
      },
      "execution_count": 8,
      "outputs": [
        {
          "output_type": "stream",
          "name": "stdout",
          "text": [
            "[1 5 6]\n",
            "[1 3 5 7 9]\n"
          ]
        }
      ]
    },
    {
      "cell_type": "code",
      "source": [
        "arr_2d = np.array(\n",
        "    [\n",
        "        [4,5,2],\n",
        "        [3,7,9],\n",
        "        [1,4,5],\n",
        "        [6,6,1]\n",
        "    ]\n",
        ")\n",
        "\n",
        "sliced_arr_2d = arr_2d[0:3,1:]\n",
        "print(sliced_arr_2d)"
      ],
      "metadata": {
        "id": "cMLSgZgG1uw_",
        "outputId": "2e5bb440-2af7-4aa2-d974-a793c63da694",
        "colab": {
          "base_uri": "https://localhost:8080/"
        }
      },
      "execution_count": 9,
      "outputs": [
        {
          "output_type": "stream",
          "name": "stdout",
          "text": [
            "[[5 2]\n",
            " [7 9]\n",
            " [4 5]]\n"
          ]
        }
      ]
    },
    {
      "cell_type": "markdown",
      "source": [
        "# **Broadcasting**"
      ],
      "metadata": {
        "id": "NfT1jdYRcA4V"
      }
    },
    {
      "cell_type": "code",
      "source": [
        "arr1 = np.array([1,2,3,4])\n",
        "b = 1\n",
        "\n",
        "arr1 = arr1+b\n",
        "\n",
        "print(arr1)\n",
        "\n",
        "arr2 = np.array(\n",
        "    [\n",
        "        [1,2,3],\n",
        "        [4,5,6]\n",
        "    ]\n",
        ")\n",
        "arr3 = np.array(\n",
        "    [\n",
        "        [4],\n",
        "        [5]\n",
        "    ]\n",
        ")\n",
        "\n",
        "arr2 = arr2*arr3\n",
        "\n",
        "print(arr2)"
      ],
      "metadata": {
        "id": "YzsypHuV2_VH",
        "outputId": "b15938a7-055f-456d-93b7-e04019b84c03",
        "colab": {
          "base_uri": "https://localhost:8080/"
        }
      },
      "execution_count": 10,
      "outputs": [
        {
          "output_type": "stream",
          "name": "stdout",
          "text": [
            "[2 3 4 5]\n",
            "[[ 4  8 12]\n",
            " [20 25 30]]\n"
          ]
        }
      ]
    },
    {
      "cell_type": "markdown",
      "source": [
        "# **Vectorization**"
      ],
      "metadata": {
        "id": "pH_FvxtPcGq0"
      }
    },
    {
      "cell_type": "code",
      "source": [
        "import time\n",
        "arr_nonvectorized = np.random.randn(1000,1000)\n",
        "arr_vectorized = np.array(arr_nonvectorized)\n",
        "\n",
        "start_nv = time.time()\n",
        "rows,columns = arr_nonvectorized.shape\n",
        "for i in range(rows):\n",
        "  for j in range(columns):\n",
        "    arr_nonvectorized[i,j] = arr_nonvectorized[i,j]*3\n",
        "end_nv = time.time()\n",
        "print(\"Time taken in non-vectorized approach:\", 1000*(end_nv-start_nv), \"ms\")\n",
        "print(arr_nonvectorized)\n",
        "\n",
        "start_v = time.time()\n",
        "b = 3\n",
        "arr_vectorized = arr_vectorized*b\n",
        "end_v = time.time()\n",
        "print(\"Time taken in non-vectorized approach:\", 1000*(end_v-start_v), \"ms\")\n",
        "print(arr_vectorized)"
      ],
      "metadata": {
        "id": "2IMZNgVWYAM3",
        "outputId": "1755486e-7dcf-4918-cd4c-739e6a605fc1",
        "colab": {
          "base_uri": "https://localhost:8080/"
        }
      },
      "execution_count": 11,
      "outputs": [
        {
          "output_type": "stream",
          "name": "stdout",
          "text": [
            "Time taken in non-vectorized approach: 722.6989269256592 ms\n",
            "[[ 1.59116723 -1.64029961 -0.96525927 ...  1.18130975 -3.61870095\n",
            "  -0.44207767]\n",
            " [-4.65960686  0.9850866  -0.22961915 ... -0.09569572  3.64758692\n",
            "   0.343137  ]\n",
            " [-0.63601225  6.88821485  2.76191303 ...  3.01359895  2.06941723\n",
            "  -1.07487123]\n",
            " ...\n",
            " [-1.66836928  2.22697269 -0.02056081 ...  1.25623639 -0.03347828\n",
            "  -0.04162802]\n",
            " [-5.60666973 -4.73831627 -3.28562484 ... -2.9028845  -0.43872983\n",
            "  -3.93819645]\n",
            " [ 1.64008401 -2.68622362 -1.07547764 ... -4.60921297  1.56303205\n",
            "   1.13652477]]\n",
            "Time taken in non-vectorized approach: 4.87065315246582 ms\n",
            "[[ 1.59116723 -1.64029961 -0.96525927 ...  1.18130975 -3.61870095\n",
            "  -0.44207767]\n",
            " [-4.65960686  0.9850866  -0.22961915 ... -0.09569572  3.64758692\n",
            "   0.343137  ]\n",
            " [-0.63601225  6.88821485  2.76191303 ...  3.01359895  2.06941723\n",
            "  -1.07487123]\n",
            " ...\n",
            " [-1.66836928  2.22697269 -0.02056081 ...  1.25623639 -0.03347828\n",
            "  -0.04162802]\n",
            " [-5.60666973 -4.73831627 -3.28562484 ... -2.9028845  -0.43872983\n",
            "  -3.93819645]\n",
            " [ 1.64008401 -2.68622362 -1.07547764 ... -4.60921297  1.56303205\n",
            "   1.13652477]]\n"
          ]
        }
      ]
    }
  ]
}