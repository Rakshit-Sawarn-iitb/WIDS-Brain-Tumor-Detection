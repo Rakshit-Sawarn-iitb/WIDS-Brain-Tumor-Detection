{
  "nbformat": 4,
  "nbformat_minor": 0,
  "metadata": {
    "colab": {
      "provenance": [],
      "include_colab_link": true
    },
    "kernelspec": {
      "name": "python3",
      "display_name": "Python 3"
    },
    "language_info": {
      "name": "python"
    }
  },
  "cells": [
    {
      "cell_type": "markdown",
      "metadata": {
        "id": "view-in-github",
        "colab_type": "text"
      },
      "source": [
        "<a href=\"https://colab.research.google.com/github/Rakshit-Sawarn-iitb/WIDS-Brain-Tumor-Detection/blob/main/Week_3.ipynb\" target=\"_parent\"><img src=\"https://colab.research.google.com/assets/colab-badge.svg\" alt=\"Open In Colab\"/></a>"
      ]
    },
    {
      "cell_type": "markdown",
      "source": [
        "#MNIST\n",
        "Our objective is to build a neural network for the classification of the MNIST dataset. This neural network will comprise two layers, each with 10 nodes, and an input layer with 784 nodes corresponding to the image pixels. The specific structure of the neural network is outlined below, where $X$ represents the input, $A^{[0]}$ denotes the first layer, $Z^{[1]}$ signifies the unactivated layer 1, $A^{[1]}$ stands for the activated layer 1, and so forth. The weights and biases are represented by $W$ and $b$ respectively:\n"
      ],
      "metadata": {
        "id": "4lFWhSEEwc9F"
      }
    },
    {
      "cell_type": "markdown",
      "source": [
        "<div align=\"center\">\n",
        "\n",
        "$A^{[0]}=X$\n",
        "\n",
        "$Z^{[1]}=W^{[1]}A^{[0]}+b^{[1]}$\n",
        "\n",
        "$A^{[1]}=\\text{ReLU}(Z^{[1]})$\n",
        "\n",
        "$Z^{[2]}=W^{[2]}A^{[1]}+b^{[2]}$\n",
        "\n",
        "$A^{[2]}=\\text{softmax}(Z^{[2]})$\n",
        "</div>\n",
        "\n",
        "\n"
      ],
      "metadata": {
        "id": "dDanK4nEwfhh"
      }
    },
    {
      "cell_type": "markdown",
      "source": [
        "You have the flexibility to create any function within or outside the class, allowing you to modify parameters as needed"
      ],
      "metadata": {
        "id": "YzBJgODl4aDp"
      }
    },
    {
      "cell_type": "code",
      "source": [
        "#importing libraries\n",
        "import pandas as pd\n",
        "import numpy as np\n",
        "from keras.datasets import mnist\n",
        "import matplotlib.pyplot as plt\n",
        "import random"
      ],
      "metadata": {
        "id": "8A6ScQ-8lzWy"
      },
      "execution_count": 2,
      "outputs": []
    },
    {
      "cell_type": "markdown",
      "source": [
        "### Required functions"
      ],
      "metadata": {
        "id": "TGVN81yBnufX"
      }
    },
    {
      "cell_type": "code",
      "execution_count": 3,
      "metadata": {
        "id": "N4A3X8zjh5My"
      },
      "outputs": [],
      "source": [
        "# activation and loss functions\n",
        "def ReLU(x):\n",
        "  a = np.maximum(x,0)\n",
        "  return a\n",
        "\n",
        "def derivative_ReLU(x):\n",
        "  b = np.array(x>0,dtype = np.float32)\n",
        "  return b\n",
        "\n",
        "def softmax(x):\n",
        "  expx = np.exp(x)\n",
        "  return expx/np.sum(expx, axis = 0,keepdims = True)\n"
      ]
    },
    {
      "cell_type": "code",
      "source": [
        "#complete the class of neural network\n",
        "\n",
        "class NN:\n",
        "  def __init__(self, lr = 0.001, n_iters = 1000):\n",
        "      self.lr = lr\n",
        "      self.n_iters = n_iters\n",
        "      self.w1 = (np.random.randn(10,784))*(0.01)\n",
        "      self.b1 = np.zeros((10,1))\n",
        "      self.w2 = (np.random.randn(10,10))*(0.01)\n",
        "      self.b2 = np.zeros((10,1))\n",
        "      self.a1 = None\n",
        "      self.a2 = None\n",
        "\n",
        "  def forward_propagation(self,x):\n",
        "    z1 = np.dot(self.w1,x.T)+self.b1\n",
        "    self.a1 = ReLU(z1)\n",
        "    z2 = np.dot(self.w2,self.a1)+self.b2\n",
        "    self.a2 = softmax(z2)\n",
        "\n",
        "    return self.a2\n",
        "\n",
        "  def one_hot(self, labels, num_classes): #return a 0 vector with 1 only in the position corresponding to the value in test target\n",
        "    num_samples = len(labels)\n",
        "    one_hot_labels = np.zeros((num_classes, num_samples))\n",
        "\n",
        "    for i in range(num_samples):\n",
        "      one_hot_labels[labels[i], i] = 1\n",
        "\n",
        "    return one_hot_labels\n",
        "\n",
        "  def cost_function(self,a,y):\n",
        "    m = y.shape[0]\n",
        "    cost = -(1/m) * np.sum(y * np.log(a + 1e-8))  # Adding a small constant for numerical stability\n",
        "    return cost\n",
        "\n",
        "  def backward_propagation(self,x,y):\n",
        "    w1 = self.w1\n",
        "    w2 = self.w2\n",
        "    b1 = self.b1\n",
        "    b2 = self.b2\n",
        "    a1 = self.a1\n",
        "    a2 = self.a2\n",
        "    #z1 = np.dot(w1,x.T)+b1\n",
        "    #a1 = ReLU(z1)\n",
        "    #z2 = np.dot(w2,a1)+b2\n",
        "    #a2 = softmax(z2)\n",
        "\n",
        "    m = x.shape[1]\n",
        "\n",
        "    dz2 = (a2 - y)\n",
        "    dw2 = (1/m)*(np.dot(dz2,a1.T))\n",
        "    db2 = (1/m)*(np.sum(dz2, axis=1, keepdims = True))\n",
        "    dz1 = (1/m)*(np.dot(w2.T,dz2))*(derivative_ReLU(a1))\n",
        "    dw1 = (1/m)*(np.dot(dz1,x))\n",
        "    db1 = (1/m)*(np.sum(dz1, axis=1, keepdims = True))\n",
        "\n",
        "    gradients = {\n",
        "        'dz1':dz1,\n",
        "        'dz2':dz2,\n",
        "        'dw2':dw2,\n",
        "        'db2':db2,\n",
        "        'dw1':dw1,\n",
        "        'db1':db1\n",
        "    }\n",
        "\n",
        "    return gradients\n",
        "\n",
        "  def update_params(self, gradients):\n",
        "    assert gradients['dz2'].shape == self.a2.shape\n",
        "    assert gradients['dw2'].shape == self.w2.shape\n",
        "    assert gradients['db2'].shape == self.b2.shape\n",
        "    assert gradients['dw1'].shape == self.w1.shape\n",
        "    assert gradients['db1'].shape == self.b1.shape\n",
        "\n",
        "    self.w1 = self.w1 - self.lr*(gradients['dw1'])\n",
        "    self.w2 = self.w2 - self.lr*(gradients['dw2'])\n",
        "    self.b1 = self.b1 - self.lr*(gradients['db1'])\n",
        "    self.b2 = self.b2 - self.lr*(gradients['db2'])\n",
        "\n",
        "  def get_predictions(self):\n",
        "    pass\n",
        "\n",
        "  def get_accuracy(self):\n",
        "    pass\n",
        "\n",
        "  def gradient_descent(self, x, y):\n",
        "    for i in range(self.n_iters):\n",
        "      a2 = self.forward_propagation(x)\n",
        "      gradient = self.backward_propagation(x,y)\n",
        "      self.update_params(gradient)\n",
        "      cost = self.cost_function(a2, Y_train)\n",
        "      if self.n_iters % 100 == 0:\n",
        "          print(f\"Iteration {self.n_iters}, Cost: {cost}\")\n",
        "\n",
        "    return self.w1, self.b1, self.w2, self.b2\n",
        "\n",
        "  def make_predictions(self,x):\n",
        "    #ypred = NN.forward_propagation(self)\n",
        "    ypred = self.forward_propagation(x)\n",
        "    return ypred\n",
        "\n",
        "  def show_prediction(self): #show the prediction and actual output for an image in mnist dataset\n",
        "    pass\n"
      ],
      "metadata": {
        "id": "Vqdn0Wv0mFNE"
      },
      "execution_count": 34,
      "outputs": []
    },
    {
      "cell_type": "markdown",
      "source": [
        "## main"
      ],
      "metadata": {
        "id": "FsgNaz6qmoLI"
      }
    },
    {
      "cell_type": "code",
      "source": [
        "(X_train, Y_train), (X_test, Y_test) = mnist.load_data()"
      ],
      "metadata": {
        "id": "iIbC5z1Lmlcr",
        "colab": {
          "base_uri": "https://localhost:8080/"
        },
        "outputId": "618f455e-fa49-4328-ec18-6ce1f4cc8865"
      },
      "execution_count": 4,
      "outputs": [
        {
          "output_type": "stream",
          "name": "stdout",
          "text": [
            "Downloading data from https://storage.googleapis.com/tensorflow/tf-keras-datasets/mnist.npz\n",
            "11490434/11490434 [==============================] - 0s 0us/step\n"
          ]
        }
      ]
    },
    {
      "cell_type": "markdown",
      "source": [
        "###preprocessing the data\n"
      ],
      "metadata": {
        "id": "ymme4NNNmws9"
      }
    },
    {
      "cell_type": "code",
      "source": [
        "# all values of pixels should be in range[0,1]\n",
        "X_train = X_train.reshape(X_train.shape[0], -1)/ 255.0\n",
        "X_test = X_test.reshape(X_test.shape[0], -1) / 255.0"
      ],
      "metadata": {
        "id": "B8YjLpUwm678"
      },
      "execution_count": 5,
      "outputs": []
    },
    {
      "cell_type": "code",
      "source": [
        "nn = NN(lr = 0.001)\n",
        "y_train_encoded = nn.one_hot(Y_train,10)\n",
        "y_test_encoded = nn.one_hot(Y_test,10)\n",
        "\n",
        "print(y_train_encoded.shape)"
      ],
      "metadata": {
        "colab": {
          "base_uri": "https://localhost:8080/"
        },
        "id": "OOpl2afQ7OOA",
        "outputId": "d7c52cf7-ba0a-483e-f05d-b5b2b9f49a28"
      },
      "execution_count": 36,
      "outputs": [
        {
          "output_type": "stream",
          "name": "stdout",
          "text": [
            "(10, 60000)\n"
          ]
        }
      ]
    },
    {
      "cell_type": "markdown",
      "source": [
        "###Model Training"
      ],
      "metadata": {
        "id": "B5dqfE25m7ZD"
      }
    },
    {
      "cell_type": "code",
      "source": [
        "#training model using gradient descent\n",
        "w1, b1, w2, b2 = nn.gradient_descent(X_train,y_train_encoded)"
      ],
      "metadata": {
        "id": "G05ggxM1m_n0"
      },
      "execution_count": null,
      "outputs": []
    },
    {
      "cell_type": "markdown",
      "source": [
        "### Viewing Results\n"
      ],
      "metadata": {
        "id": "sa-CT3UnnAsr"
      }
    },
    {
      "cell_type": "code",
      "source": [
        "#viewing prediction for 10 random images in dataset"
      ],
      "metadata": {
        "id": "WV9UEIHbnJKd"
      },
      "execution_count": null,
      "outputs": []
    }
  ]
}