{
  "nbformat": 4,
  "nbformat_minor": 0,
  "metadata": {
    "colab": {
      "provenance": [],
      "include_colab_link": true
    },
    "kernelspec": {
      "name": "python3",
      "display_name": "Python 3"
    },
    "language_info": {
      "name": "python"
    }
  },
  "cells": [
    {
      "cell_type": "markdown",
      "metadata": {
        "id": "view-in-github",
        "colab_type": "text"
      },
      "source": [
        "<a href=\"https://colab.research.google.com/github/Rakshit-Sawarn-iitb/WIDS-Brain-Tumor-Detection/blob/main/Week_3.ipynb\" target=\"_parent\"><img src=\"https://colab.research.google.com/assets/colab-badge.svg\" alt=\"Open In Colab\"/></a>"
      ]
    },
    {
      "cell_type": "markdown",
      "source": [
        "#MNIST\n",
        "Our objective is to build a neural network for the classification of the MNIST dataset. This neural network will comprise two layers, each with 10 nodes, and an input layer with 784 nodes corresponding to the image pixels. The specific structure of the neural network is outlined below, where $X$ represents the input, $A^{[0]}$ denotes the first layer, $Z^{[1]}$ signifies the unactivated layer 1, $A^{[1]}$ stands for the activated layer 1, and so forth. The weights and biases are represented by $W$ and $b$ respectively:\n"
      ],
      "metadata": {
        "id": "4lFWhSEEwc9F"
      }
    },
    {
      "cell_type": "markdown",
      "source": [
        "<div align=\"center\">\n",
        "\n",
        "$A^{[0]}=X$\n",
        "\n",
        "$Z^{[1]}=W^{[1]}A^{[0]}+b^{[1]}$\n",
        "\n",
        "$A^{[1]}=\\text{ReLU}(Z^{[1]})$\n",
        "\n",
        "$Z^{[2]}=W^{[2]}A^{[1]}+b^{[2]}$\n",
        "\n",
        "$A^{[2]}=\\text{softmax}(Z^{[2]})$\n",
        "</div>\n",
        "\n",
        "\n"
      ],
      "metadata": {
        "id": "dDanK4nEwfhh"
      }
    },
    {
      "cell_type": "markdown",
      "source": [
        "You have the flexibility to create any function within or outside the class, allowing you to modify parameters as needed"
      ],
      "metadata": {
        "id": "YzBJgODl4aDp"
      }
    },
    {
      "cell_type": "code",
      "source": [
        "#importing libraries\n",
        "import pandas as pd\n",
        "import numpy as np\n",
        "from keras.datasets import mnist\n",
        "import matplotlib.pyplot as plt\n",
        "import random"
      ],
      "metadata": {
        "id": "8A6ScQ-8lzWy"
      },
      "execution_count": 47,
      "outputs": []
    },
    {
      "cell_type": "markdown",
      "source": [
        "### Required functions"
      ],
      "metadata": {
        "id": "TGVN81yBnufX"
      }
    },
    {
      "cell_type": "code",
      "execution_count": 48,
      "metadata": {
        "id": "N4A3X8zjh5My"
      },
      "outputs": [],
      "source": [
        "# activation and loss functions\n",
        "def ReLU(x):\n",
        "  a = np.maximum(x,0)\n",
        "  return a\n",
        "\n",
        "def derivative_ReLU(x):\n",
        "  b = np.array(x>0,dtype = np.float32)\n",
        "  return b\n",
        "\n",
        "def softmax(x):\n",
        "  expx = np.exp(x)\n",
        "  return expx/np.sum(expx, axis = 0,keepdims = True)\n"
      ]
    },
    {
      "cell_type": "code",
      "source": [
        "#complete the class of neural network\n",
        "\n",
        "class NN:\n",
        "  def __init__(self, lr = 0.001, n_iters = 100):\n",
        "      self.lr = lr\n",
        "      self.n_iters = n_iters\n",
        "      self.w1 = (np.random.randn(10,784))\n",
        "      self.b1 = np.zeros((10,1))\n",
        "      self.w2 = (np.random.randn(10,10))\n",
        "      self.b2 = np.zeros((10,1))\n",
        "      self.a1 = None\n",
        "      self.a2 = None\n",
        "\n",
        "  def forward_propagation(self,x):\n",
        "    z1 = np.dot(self.w1,x.T)+self.b1\n",
        "    self.a1 = ReLU(z1)\n",
        "    z2 = np.dot(self.w2,self.a1)+self.b2\n",
        "    self.a2 = softmax(z2)\n",
        "\n",
        "    return self.a2\n",
        "\n",
        "  def one_hot(self, labels, num_classes): #return a 0 vector with 1 only in the position corresponding to the value in test target\n",
        "    num_samples = len(labels)\n",
        "    one_hot_labels = np.zeros((num_classes, num_samples))\n",
        "\n",
        "    for i in range(num_samples):\n",
        "      one_hot_labels[labels[i], i] = 1\n",
        "\n",
        "    return one_hot_labels\n",
        "\n",
        "  def cost_function(self,a,y):\n",
        "    m = (y.T).shape[0]\n",
        "    cost = -(1/m) * np.sum(y * np.log(a))\n",
        "    return cost\n",
        "\n",
        "  def backward_propagation(self,x,y):\n",
        "    w1 = self.w1\n",
        "    w2 = self.w2\n",
        "    b1 = self.b1\n",
        "    b2 = self.b2\n",
        "    a1 = self.a1\n",
        "    a2 = self.a2\n",
        "\n",
        "    m = x.shape[1]\n",
        "\n",
        "    dz2 = (a2 - y)\n",
        "    dw2 = (1/m)*(np.dot(dz2,a1.T))\n",
        "    db2 = (1/m)*(np.sum(dz2, axis=1, keepdims = True))\n",
        "    dz1 = (1/m)*(np.dot(w2.T,dz2))*(derivative_ReLU(a1))\n",
        "    dw1 = (1/m)*(np.dot(dz1,x))\n",
        "    db1 = (1/m)*(np.sum(dz1, axis=1, keepdims = True))\n",
        "\n",
        "    gradients = {\n",
        "        'dz1':dz1,\n",
        "        'dz2':dz2,\n",
        "        'dw2':dw2,\n",
        "        'db2':db2,\n",
        "        'dw1':dw1,\n",
        "        'db1':db1\n",
        "    }\n",
        "\n",
        "    return gradients\n",
        "\n",
        "  def update_params(self, gradients):\n",
        "\n",
        "    dw1 = gradients['dw1']\n",
        "    db1 = gradients['db1']\n",
        "    dw2 = gradients['dw2']\n",
        "    db2 = gradients['db2']\n",
        "\n",
        "    self.w1 -= self.lr*(dw1)\n",
        "    self.w2 -= self.lr*(dw2)\n",
        "    self.b1 -= self.lr*(db1)\n",
        "    self.b2 -= self.lr*(db2)\n",
        "\n",
        "  def get_predictions(self):\n",
        "    pass\n",
        "\n",
        "  def get_accuracy(self,y):\n",
        "    ypred_out = np.argmax(self.a2,0)\n",
        "    yout = np.argmax(y,0)\n",
        "\n",
        "    acc = np.mean(yout == ypred_out)*100\n",
        "\n",
        "    return acc\n",
        "\n",
        "  def gradient_descent(self, x, y):\n",
        "    for i in range(self.n_iters):\n",
        "      a2 = self.forward_propagation(x)\n",
        "      gradient = self.backward_propagation(x,y)\n",
        "      self.update_params(gradient)\n",
        "      cost = self.cost_function(a2, y)\n",
        "      if i % (self.n_iters/10) == 0:\n",
        "        print(f\"Iteration {i}, Cost: {cost}\")\n",
        "\n",
        "    return self.w1, self.b1, self.w2, self.b2\n",
        "\n",
        "  def make_predictions(self,x):\n",
        "    #ypred = NN.forward_propagation(self)\n",
        "    ypred = self.forward_propagation(x)\n",
        "    predicted = np.argmax(ypred)\n",
        "    return predicted\n",
        "\n",
        "  def show_prediction(self,x): #show the prediction and actual output for an image in mnist dataset\n",
        "    #idx = int(random.randrange(0,x.shape[1]))\n",
        "    #plt.imshow(x[:, idx].reshape((28,28)),cmap='gray')\n",
        "    #plt.show()\n",
        "\n",
        "    #cache = self.forward_propagation(x[:, idx].reshape(X_test[:, idx].shape[0], 1))\n",
        "    #a_pred = cache\n",
        "    #a_pred = np.argmax(a_pred, 0)\n",
        "\n",
        "    #print(\"Our model says it is :\", a_pred[0])\n",
        "    idx = random.randrange(0, x.shape[0])\n",
        "    single_image = x[idx,: ].reshape((28, 28))\n",
        "    plt.imshow(single_image, cmap='gray')\n",
        "    #plt.imshow(x[:, idx].reshape((28, 28)), cmap='gray')\n",
        "    plt.show()\n",
        "\n",
        "    input_image = x[idx, :].reshape(x[idx, :].shape[0], 1)\n",
        "    prediction = self.make_predictions(input_image.T)\n",
        "\n",
        "    print(\"Our model predicts:\", prediction)\n"
      ],
      "metadata": {
        "id": "Vqdn0Wv0mFNE"
      },
      "execution_count": 49,
      "outputs": []
    },
    {
      "cell_type": "markdown",
      "source": [
        "## main"
      ],
      "metadata": {
        "id": "FsgNaz6qmoLI"
      }
    },
    {
      "cell_type": "code",
      "source": [
        "(X_train, Y_train), (X_test, Y_test) = mnist.load_data()"
      ],
      "metadata": {
        "id": "iIbC5z1Lmlcr"
      },
      "execution_count": 50,
      "outputs": []
    },
    {
      "cell_type": "markdown",
      "source": [
        "###preprocessing the data\n"
      ],
      "metadata": {
        "id": "ymme4NNNmws9"
      }
    },
    {
      "cell_type": "code",
      "source": [
        "# all values of pixels should be in range[0,1]\n",
        "X_train = (X_train.reshape(X_train.shape[0], -1)/ 255.0)\n",
        "X_test = (X_test.reshape(X_test.shape[0], -1) / 255.0)\n",
        "print(X_train.shape)\n",
        "print(X_test.shape)"
      ],
      "metadata": {
        "id": "B8YjLpUwm678",
        "colab": {
          "base_uri": "https://localhost:8080/"
        },
        "outputId": "ff1e00d4-ddb4-4ea7-d32f-773c912d7168"
      },
      "execution_count": 51,
      "outputs": [
        {
          "output_type": "stream",
          "name": "stdout",
          "text": [
            "(60000, 784)\n",
            "(10000, 784)\n"
          ]
        }
      ]
    },
    {
      "cell_type": "code",
      "source": [
        "nn = NN(lr = 0.001,n_iters=1000)\n",
        "y_train_encoded = nn.one_hot(Y_train,10)\n",
        "y_test_encoded = nn.one_hot(Y_test,10)\n",
        "\n",
        "print(y_train_encoded.shape)"
      ],
      "metadata": {
        "colab": {
          "base_uri": "https://localhost:8080/"
        },
        "id": "OOpl2afQ7OOA",
        "outputId": "aa317614-3c23-49bf-e140-9aebc7c62b26"
      },
      "execution_count": 52,
      "outputs": [
        {
          "output_type": "stream",
          "name": "stdout",
          "text": [
            "(10, 60000)\n"
          ]
        }
      ]
    },
    {
      "cell_type": "markdown",
      "source": [
        "###Model Training"
      ],
      "metadata": {
        "id": "B5dqfE25m7ZD"
      }
    },
    {
      "cell_type": "code",
      "source": [
        "#training model using gradient descent\n",
        "w1, b1, w2, b2 = nn.gradient_descent(X_train,y_train_encoded)"
      ],
      "metadata": {
        "id": "G05ggxM1m_n0",
        "colab": {
          "base_uri": "https://localhost:8080/"
        },
        "outputId": "5869971f-79b8-47c1-ad0e-df0cab54b3ae"
      },
      "execution_count": 53,
      "outputs": [
        {
          "output_type": "stream",
          "name": "stdout",
          "text": [
            "Iteration 0, Cost: 34.546068059776324\n",
            "Iteration 100, Cost: 2.565064930027982\n",
            "Iteration 200, Cost: 2.1814872523941164\n",
            "Iteration 300, Cost: 2.0294944180866077\n",
            "Iteration 400, Cost: 1.885278428021256\n",
            "Iteration 500, Cost: 1.8974554572536944\n",
            "Iteration 600, Cost: 1.8239142233463337\n",
            "Iteration 700, Cost: 1.851736244072233\n",
            "Iteration 800, Cost: 1.7942134943455725\n",
            "Iteration 900, Cost: 1.8168827808415846\n"
          ]
        }
      ]
    },
    {
      "cell_type": "code",
      "source": [
        "nn.w1 = w1\n",
        "nn.w2 = w2\n",
        "nn.b1 = b1\n",
        "nn.b2 = b2"
      ],
      "metadata": {
        "id": "KyTbyG1MvjLv"
      },
      "execution_count": 54,
      "outputs": []
    },
    {
      "cell_type": "code",
      "source": [
        "ypred = nn.make_predictions(X_test)\n",
        "\n",
        "acc = nn.get_accuracy(y_test_encoded)\n",
        "print(acc)"
      ],
      "metadata": {
        "colab": {
          "base_uri": "https://localhost:8080/"
        },
        "id": "8DIl2E1Dv5Ub",
        "outputId": "df7d0f31-49cc-40a5-e83b-45451d17d144"
      },
      "execution_count": 55,
      "outputs": [
        {
          "output_type": "stream",
          "name": "stdout",
          "text": [
            "44.12\n"
          ]
        }
      ]
    },
    {
      "cell_type": "markdown",
      "source": [
        "### Viewing Results\n"
      ],
      "metadata": {
        "id": "sa-CT3UnnAsr"
      }
    },
    {
      "cell_type": "code",
      "source": [
        "#viewing prediction for 10 random images in dataset\n",
        "nn.show_prediction(X_test)"
      ],
      "metadata": {
        "id": "WV9UEIHbnJKd",
        "colab": {
          "base_uri": "https://localhost:8080/",
          "height": 447
        },
        "outputId": "f117843d-79df-4cfe-9cb1-5012db4ea800"
      },
      "execution_count": 56,
      "outputs": [
        {
          "output_type": "display_data",
          "data": {
            "text/plain": [
              "<Figure size 640x480 with 1 Axes>"
            ],
            "image/png": "[encoded data removed]"
          },
          "metadata": {}
        },
        {
          "output_type": "stream",
          "name": "stdout",
          "text": [
            "Our model predicts: 9\n"
          ]
        }
      ]
    }
  ]
}