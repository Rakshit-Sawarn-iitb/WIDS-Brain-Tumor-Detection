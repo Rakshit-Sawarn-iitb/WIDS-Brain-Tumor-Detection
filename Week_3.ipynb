{
  "cells": [
    {
      "cell_type": "markdown",
      "metadata": {
        "id": "view-in-github",
        "colab_type": "text"
      },
      "source": [
        "<a href=\"https://colab.research.google.com/github/Rakshit-Sawarn-iitb/WIDS-Brain-Tumor-Detection/blob/main/Week_3.ipynb\" target=\"_parent\"><img src=\"https://colab.research.google.com/assets/colab-badge.svg\" alt=\"Open In Colab\"/></a>"
      ]
    },
    {
      "cell_type": "markdown",
      "metadata": {
        "id": "4lFWhSEEwc9F"
      },
      "source": [
        "#MNIST\n",
        "Our objective is to build a neural network for the classification of the MNIST dataset. This neural network will comprise two layers, each with 10 nodes, and an input layer with 784 nodes corresponding to the image pixels. The specific structure of the neural network is outlined below, where $X$ represents the input, $A^{[0]}$ denotes the first layer, $Z^{[1]}$ signifies the unactivated layer 1, $A^{[1]}$ stands for the activated layer 1, and so forth. The weights and biases are represented by $W$ and $b$ respectively:\n"
      ]
    },
    {
      "cell_type": "markdown",
      "metadata": {
        "id": "dDanK4nEwfhh"
      },
      "source": [
        "<div align=\"center\">\n",
        "\n",
        "$A^{[0]}=X$\n",
        "\n",
        "$Z^{[1]}=W^{[1]}A^{[0]}+b^{[1]}$\n",
        "\n",
        "$A^{[1]}=\\text{ReLU}(Z^{[1]})$\n",
        "\n",
        "$Z^{[2]}=W^{[2]}A^{[1]}+b^{[2]}$\n",
        "\n",
        "$A^{[2]}=\\text{softmax}(Z^{[2]})$\n",
        "</div>\n",
        "\n",
        "\n"
      ]
    },
    {
      "cell_type": "markdown",
      "metadata": {
        "id": "YzBJgODl4aDp"
      },
      "source": [
        "You have the flexibility to create any function within or outside the class, allowing you to modify parameters as needed"
      ]
    },
    {
      "cell_type": "code",
      "execution_count": 87,
      "metadata": {
        "id": "8A6ScQ-8lzWy"
      },
      "outputs": [],
      "source": [
        "#importing libraries\n",
        "import pandas as pd\n",
        "import numpy as np\n",
        "from keras.datasets import mnist\n",
        "import matplotlib.pyplot as plt\n",
        "import random"
      ]
    },
    {
      "cell_type": "markdown",
      "metadata": {
        "id": "TGVN81yBnufX"
      },
      "source": [
        "### Required functions"
      ]
    },
    {
      "cell_type": "code",
      "execution_count": 88,
      "metadata": {
        "id": "N4A3X8zjh5My"
      },
      "outputs": [],
      "source": [
        "# activation and loss functions\n",
        "def ReLU(x):\n",
        "  a = np.maximum(x,0)\n",
        "  return a\n",
        "\n",
        "def derivative_ReLU(x):\n",
        "  b = np.array(x>0,dtype = np.float32)\n",
        "  return b\n",
        "\n",
        "def softmax(x):\n",
        "  expx = np.exp(x)\n",
        "  return expx/np.sum(expx, axis = 0,keepdims = True)\n"
      ]
    },
    {
      "cell_type": "code",
      "execution_count": 89,
      "metadata": {
        "id": "Vqdn0Wv0mFNE"
      },
      "outputs": [],
      "source": [
        "#complete the class of neural network\n",
        "\n",
        "class NN:\n",
        "  def __init__(self, lr = 0.001, n_iters = 100):\n",
        "      self.lr = lr\n",
        "      self.n_iters = n_iters\n",
        "      self.w1 = (np.random.randn(10,784))\n",
        "      self.b1 = np.zeros((10,1))\n",
        "      self.w2 = (np.random.randn(10,10))\n",
        "      self.b2 = np.zeros((10,1))\n",
        "      self.a1 = None\n",
        "      self.a2 = None\n",
        "\n",
        "  def forward_propagation(self,x):\n",
        "    z1 = np.dot(self.w1,x.T)+self.b1\n",
        "    self.a1 = ReLU(z1)\n",
        "    z2 = np.dot(self.w2,self.a1)+self.b2\n",
        "    self.a2 = softmax(z2)\n",
        "\n",
        "    return self.a2\n",
        "\n",
        "  def one_hot(self, labels, num_classes): #return a 0 vector with 1 only in the position corresponding to the value in test target\n",
        "    num_samples = len(labels)\n",
        "    one_hot_labels = np.zeros((num_classes, num_samples))\n",
        "\n",
        "    for i in range(num_samples):\n",
        "      one_hot_labels[labels[i], i] = 1\n",
        "\n",
        "    return one_hot_labels\n",
        "\n",
        "  def cost_function(self,a,y):\n",
        "    m = (y.T).shape[0]\n",
        "    cost = -(1/m) * np.sum(y * np.log(a))\n",
        "    return cost\n",
        "\n",
        "  def backward_propagation(self,x,y):\n",
        "    w1 = self.w1\n",
        "    w2 = self.w2\n",
        "    b1 = self.b1\n",
        "    b2 = self.b2\n",
        "    a1 = self.a1\n",
        "    a2 = self.a2\n",
        "\n",
        "    m = x.shape[1]\n",
        "\n",
        "    dz2 = (a2 - y)\n",
        "    dw2 = (1/m)*(np.dot(dz2,a1.T))\n",
        "    db2 = (1/m)*(np.sum(dz2, axis=1, keepdims = True))\n",
        "    dz1 = (1/m)*(np.dot(w2.T,dz2))*(derivative_ReLU(a1))\n",
        "    dw1 = (1/m)*(np.dot(dz1,x))\n",
        "    db1 = (1/m)*(np.sum(dz1, axis=1, keepdims = True))\n",
        "\n",
        "    gradients = {\n",
        "        'dz1':dz1,\n",
        "        'dz2':dz2,\n",
        "        'dw2':dw2,\n",
        "        'db2':db2,\n",
        "        'dw1':dw1,\n",
        "        'db1':db1\n",
        "    }\n",
        "\n",
        "    return gradients\n",
        "\n",
        "  def update_params(self, gradients):\n",
        "\n",
        "    dw1 = gradients['dw1']\n",
        "    db1 = gradients['db1']\n",
        "    dw2 = gradients['dw2']\n",
        "    db2 = gradients['db2']\n",
        "\n",
        "    self.w1 -= self.lr*(dw1)\n",
        "    self.w2 -= self.lr*(dw2)\n",
        "    self.b1 -= self.lr*(db1)\n",
        "    self.b2 -= self.lr*(db2)\n",
        "\n",
        "  def get_predictions(self):\n",
        "    pass\n",
        "\n",
        "  def get_accuracy(self,y):\n",
        "    ypred_out = np.argmax(self.a2,0)\n",
        "    yout = np.argmax(y,0)\n",
        "\n",
        "    acc = np.mean(yout == ypred_out)*100\n",
        "\n",
        "    return acc\n",
        "\n",
        "  def gradient_descent(self, x, y):\n",
        "    for i in range(self.n_iters):\n",
        "      a2 = self.forward_propagation(x)\n",
        "      gradient = self.backward_propagation(x,y)\n",
        "      self.update_params(gradient)\n",
        "      cost = self.cost_function(a2, y)\n",
        "      if i % (self.n_iters/10) == 0:\n",
        "        print(f\"Iteration {i}, Cost: {cost}\")\n",
        "\n",
        "    return self.w1, self.b1, self.w2, self.b2\n",
        "\n",
        "  def make_predictions(self,x):\n",
        "    ypred = self.forward_propagation(x)\n",
        "    predicted = np.argmax(ypred)\n",
        "    return predicted\n",
        "\n",
        "  def show_prediction(self,x): #show the prediction and actual output for an image in mnist dataset\n",
        "    idx = random.randrange(0, x.shape[0])\n",
        "    single_image = x[idx,: ].reshape((28, 28))\n",
        "    plt.imshow(single_image, cmap='gray')\n",
        "    plt.show()\n",
        "\n",
        "    input_image = x[idx, :].reshape(x[idx, :].shape[0], 1)\n",
        "    prediction = self.make_predictions(input_image.T)\n",
        "\n",
        "    print(\"Model predicts:\", prediction)\n"
      ]
    },
    {
      "cell_type": "markdown",
      "metadata": {
        "id": "FsgNaz6qmoLI"
      },
      "source": [
        "## main"
      ]
    },
    {
      "cell_type": "code",
      "execution_count": 90,
      "metadata": {
        "id": "iIbC5z1Lmlcr"
      },
      "outputs": [],
      "source": [
        "(X_train, Y_train), (X_test, Y_test) = mnist.load_data()"
      ]
    },
    {
      "cell_type": "markdown",
      "metadata": {
        "id": "ymme4NNNmws9"
      },
      "source": [
        "###preprocessing the data\n"
      ]
    },
    {
      "cell_type": "code",
      "execution_count": 91,
      "metadata": {
        "colab": {
          "base_uri": "https://localhost:8080/"
        },
        "id": "B8YjLpUwm678",
        "outputId": "09a2b66c-fc71-45ab-f5b8-f80487a66c94"
      },
      "outputs": [
        {
          "output_type": "stream",
          "name": "stdout",
          "text": [
            "(60000, 784)\n",
            "(10000, 784)\n"
          ]
        }
      ],
      "source": [
        "# all values of pixels should be in range[0,1]\n",
        "X_train = (X_train.reshape(X_train.shape[0], -1)/ 255.0)\n",
        "X_test = (X_test.reshape(X_test.shape[0], -1) / 255.0)\n",
        "print(X_train.shape)\n",
        "print(X_test.shape)"
      ]
    },
    {
      "cell_type": "code",
      "execution_count": 104,
      "metadata": {
        "colab": {
          "base_uri": "https://localhost:8080/"
        },
        "id": "OOpl2afQ7OOA",
        "outputId": "a499a35c-fbb2-45f1-a38a-7d6614978c73"
      },
      "outputs": [
        {
          "output_type": "stream",
          "name": "stdout",
          "text": [
            "(10, 60000)\n"
          ]
        }
      ],
      "source": [
        "nn = NN(lr = 0.001,n_iters=1000)\n",
        "y_train_encoded = nn.one_hot(Y_train,10)\n",
        "y_test_encoded = nn.one_hot(Y_test,10)\n",
        "\n",
        "print(y_train_encoded.shape)"
      ]
    },
    {
      "cell_type": "markdown",
      "metadata": {
        "id": "B5dqfE25m7ZD"
      },
      "source": [
        "###Model Training"
      ]
    },
    {
      "cell_type": "code",
      "execution_count": 105,
      "metadata": {
        "colab": {
          "base_uri": "https://localhost:8080/"
        },
        "id": "G05ggxM1m_n0",
        "outputId": "9e1c78e1-601c-4ae3-a44f-841575dde24e"
      },
      "outputs": [
        {
          "output_type": "stream",
          "name": "stdout",
          "text": [
            "Iteration 0, Cost: 27.031202240570853\n",
            "Iteration 100, Cost: 2.6051957875517755\n",
            "Iteration 200, Cost: 1.924736652352089\n",
            "Iteration 300, Cost: 1.8200997312679574\n",
            "Iteration 400, Cost: 1.7800088643372571\n",
            "Iteration 500, Cost: 1.7585492085300332\n",
            "Iteration 600, Cost: 1.7424618021164682\n",
            "Iteration 700, Cost: 1.7297525305087786\n",
            "Iteration 800, Cost: 1.7204365454486845\n",
            "Iteration 900, Cost: 1.714213338138064\n"
          ]
        }
      ],
      "source": [
        "#training model using gradient descent\n",
        "w1, b1, w2, b2 = nn.gradient_descent(X_train,y_train_encoded)"
      ]
    },
    {
      "cell_type": "code",
      "execution_count": 106,
      "metadata": {
        "id": "KyTbyG1MvjLv"
      },
      "outputs": [],
      "source": [
        "nn.w1 = w1\n",
        "nn.w2 = w2\n",
        "nn.b1 = b1\n",
        "nn.b2 = b2"
      ]
    },
    {
      "cell_type": "code",
      "execution_count": 107,
      "metadata": {
        "colab": {
          "base_uri": "https://localhost:8080/"
        },
        "id": "8DIl2E1Dv5Ub",
        "outputId": "ec5f6257-e64c-4fe0-bef3-dc29809a3f8d"
      },
      "outputs": [
        {
          "output_type": "stream",
          "name": "stdout",
          "text": [
            "40.1\n"
          ]
        }
      ],
      "source": [
        "ypred = nn.make_predictions(X_test)\n",
        "\n",
        "acc = nn.get_accuracy(y_test_encoded)\n",
        "print(acc)"
      ]
    },
    {
      "cell_type": "markdown",
      "metadata": {
        "id": "sa-CT3UnnAsr"
      },
      "source": [
        "### Viewing Results\n"
      ]
    },
    {
      "cell_type": "code",
      "execution_count": 108,
      "metadata": {
        "colab": {
          "base_uri": "https://localhost:8080/",
          "height": 1000
        },
        "id": "WV9UEIHbnJKd",
        "outputId": "2ea59958-425f-43cd-ebbe-579410d95b59"
      },
      "outputs": [
        {
          "output_type": "display_data",
          "data": {
            "text/plain": [
              "<Figure size 640x480 with 1 Axes>"
            ],
            "image/png": "[encoded data removed]"
          },
          "metadata": {}
        },
        {
          "output_type": "stream",
          "name": "stdout",
          "text": [
            "Model predicts: 9\n"
          ]
        },
        {
          "output_type": "display_data",
          "data": {
            "text/plain": [
              "<Figure size 640x480 with 1 Axes>"
            ],
            "image/png": "[encoded data removed]"
          },
          "metadata": {}
        },
        {
          "output_type": "stream",
          "name": "stdout",
          "text": [
            "Model predicts: 8\n"
          ]
        },
        {
          "output_type": "display_data",
          "data": {
            "text/plain": [
              "<Figure size 640x480 with 1 Axes>"
            ],
            "image/png": "[encoded data removed]"
          },
          "metadata": {}
        },
        {
          "output_type": "stream",
          "name": "stdout",
          "text": [
            "Model predicts: 7\n"
          ]
        },
        {
          "output_type": "display_data",
          "data": {
            "text/plain": [
              "<Figure size 640x480 with 1 Axes>"
            ],
            "image/png": "[encoded data removed]"
          },
          "metadata": {}
        },
        {
          "output_type": "stream",
          "name": "stdout",
          "text": [
            "Model predicts: 5\n"
          ]
        },
        {
          "output_type": "display_data",
          "data": {
            "text/plain": [
              "<Figure size 640x480 with 1 Axes>"
            ],
            "image/png": "[encoded data removed]"
          },
          "metadata": {}
        },
        {
          "output_type": "stream",
          "name": "stdout",
          "text": [
            "Model predicts: 3\n"
          ]
        },
        {
          "output_type": "display_data",
          "data": {
            "text/plain": [
              "<Figure size 640x480 with 1 Axes>"
            ],
            "image/png": "[encoded data removed]"
          },
          "metadata": {}
        },
        {
          "output_type": "stream",
          "name": "stdout",
          "text": [
            "Model predicts: 4\n"
          ]
        },
        {
          "output_type": "display_data",
          "data": {
            "text/plain": [
              "<Figure size 640x480 with 1 Axes>"
            ],
            "image/png": "[encoded data removed]"
          },
          "metadata": {}
        },
        {
          "output_type": "stream",
          "name": "stdout",
          "text": [
            "Model predicts: 8\n"
          ]
        },
        {
          "output_type": "display_data",
          "data": {
            "text/plain": [
              "<Figure size 640x480 with 1 Axes>"
            ],
            "image/png": "[encoded data removed]"
          },
          "metadata": {}
        },
        {
          "output_type": "stream",
          "name": "stdout",
          "text": [
            "Model predicts: 8\n"
          ]
        },
        {
          "output_type": "display_data",
          "data": {
            "text/plain": [
              "<Figure size 640x480 with 1 Axes>"
            ],
            "image/png": "[encoded data removed]"
          },
          "metadata": {}
        },
        {
          "output_type": "stream",
          "name": "stdout",
          "text": [
            "Model predicts: 1\n"
          ]
        },
        {
          "output_type": "display_data",
          "data": {
            "text/plain": [
              "<Figure size 640x480 with 1 Axes>"
            ],
            "image/png": "[encoded data removed]"
          },
          "metadata": {}
        },
        {
          "output_type": "stream",
          "name": "stdout",
          "text": [
            "Model predicts: 1\n"
          ]
        }
      ],
      "source": [
        "#viewing prediction for 10 random images in dataset\n",
        "for epoch in range(10) :\n",
        "  nn.show_prediction(X_train)"
      ]
    }
  ],
  "metadata": {
    "colab": {
      "provenance": [],
      "include_colab_link": true
    },
    "kernelspec": {
      "display_name": "Python 3",
      "name": "python3"
    },
    "language_info": {
      "name": "python"
    }
  },
  "nbformat": 4,
  "nbformat_minor": 0
}